{
 "cells": [
  {
   "cell_type": "markdown",
   "id": "5427ff85-2cec-4352-a60c-4fc358cd5327",
   "metadata": {},
   "source": [
    "# Hist"
   ]
  },
  {
   "cell_type": "code",
   "execution_count": 1,
   "id": "7e74d853-1df2-47a5-b2bd-6f3ebe765937",
   "metadata": {},
   "outputs": [],
   "source": [
    "import awkward as ak\n",
    "import hist\n",
    "import matplotlib.pyplot as plt\n",
    "import midas_tape\n",
    "import numpy as np"
   ]
  },
  {
   "cell_type": "markdown",
   "id": "ff7d7cc4-a590-40e5-a368-b24e1dc72f3c",
   "metadata": {},
   "source": [
    "Let's make the notebook more readable by printing every assignment or expression."
   ]
  },
  {
   "cell_type": "code",
   "execution_count": 2,
   "id": "518a7dab-97e1-41c0-a530-1c16f2aa9ccb",
   "metadata": {},
   "outputs": [],
   "source": [
    "%config InteractiveShell.ast_node_interactivity = \"last_expr_or_assign\""
   ]
  },
  {
   "cell_type": "markdown",
   "id": "e14805d2-f6a8-46aa-9b9f-f0632847bc04",
   "metadata": {},
   "source": [
    "And let's enable interactive plots"
   ]
  },
  {
   "cell_type": "code",
   "execution_count": 3,
   "id": "5ffc74ff-e3df-45a6-ac44-56599ee5e09f",
   "metadata": {},
   "outputs": [],
   "source": [
    "%matplotlib widget"
   ]
  },
  {
   "cell_type": "markdown",
   "id": "70e099e1-8710-45a2-8565-5f3b732f0e89",
   "metadata": {},
   "source": [
    "## Loading the data\n",
    "The data in this repository are encrypted. Let's load the file now:"
   ]
  },
  {
   "cell_type": "code",
   "execution_count": 4,
   "id": "7d672ac9-280e-4673-aab3-47b8a57eeb8c",
   "metadata": {},
   "outputs": [],
   "source": [
    "with open(\"../data/R366_0\", \"rb\") as f:\n",
    "    events = midas_tape.read(f)"
   ]
  },
  {
   "cell_type": "code",
   "execution_count": 5,
   "id": "4330d52a-cfe8-4923-a365-d7993e8e2ea2",
   "metadata": {},
   "outputs": [
    {
     "data": {
      "text/plain": [
       "<Array [[{adc: 35, ... value: 1244}]] type='704295 * var * {\"adc\": uint8, \"chann...'>"
      ]
     },
     "execution_count": 5,
     "metadata": {},
     "output_type": "execute_result"
    }
   ],
   "source": [
    "events"
   ]
  },
  {
   "cell_type": "markdown",
   "id": "d136bab3-9640-4d35-b5b3-cfc8f505c373",
   "metadata": {},
   "source": [
    "## Plotting the data"
   ]
  },
  {
   "cell_type": "markdown",
   "id": "8f38b2f9-3a7d-4411-b01e-a7b2c5e25d8b",
   "metadata": {},
   "source": [
    "Let's construct a single index from the ADC and the ADC channel"
   ]
  },
  {
   "cell_type": "code",
   "execution_count": 6,
   "id": "f6ce88ba-d29a-4c37-9f84-0bd0c1cbb60d",
   "metadata": {},
   "outputs": [
    {
     "data": {
      "text/plain": [
       "<Array [[96, 113], [105], ... 145], [50, 47]] type='704295 * var * uint8'>"
      ]
     },
     "execution_count": 6,
     "metadata": {},
     "output_type": "execute_result"
    }
   ],
   "source": [
    "ix = events.adc * 32 + events.channel"
   ]
  },
  {
   "cell_type": "markdown",
   "id": "135957b2-4dcf-44a8-9f83-b241fc76d416",
   "metadata": {},
   "source": [
    "We can find the unique set of indices to build a nice categorical index"
   ]
  },
  {
   "cell_type": "code",
   "execution_count": 7,
   "id": "2e824b71-d112-449b-9033-8feff3cb0449",
   "metadata": {
    "scrolled": true,
    "tags": []
   },
   "outputs": [
    {
     "data": {
      "text/plain": [
       "[32,\n",
       " 33,\n",
       " 34,\n",
       " 35,\n",
       " 36,\n",
       " 37,\n",
       " 38,\n",
       " 39,\n",
       " 40,\n",
       " 41,\n",
       " 42,\n",
       " 43,\n",
       " 44,\n",
       " 45,\n",
       " 46,\n",
       " 47,\n",
       " 48,\n",
       " 49,\n",
       " 50,\n",
       " 51,\n",
       " 52,\n",
       " 53,\n",
       " 54,\n",
       " 55,\n",
       " 56,\n",
       " 57,\n",
       " 58,\n",
       " 59,\n",
       " 60,\n",
       " 61,\n",
       " 62,\n",
       " 63,\n",
       " 64,\n",
       " 65,\n",
       " 66,\n",
       " 67,\n",
       " 68,\n",
       " 69,\n",
       " 70,\n",
       " 71,\n",
       " 72,\n",
       " 73,\n",
       " 80,\n",
       " 81,\n",
       " 82,\n",
       " 83,\n",
       " 84,\n",
       " 85,\n",
       " 86,\n",
       " 87,\n",
       " 88,\n",
       " 89,\n",
       " 96,\n",
       " 97,\n",
       " 98,\n",
       " 99,\n",
       " 100,\n",
       " 101,\n",
       " 102,\n",
       " 103,\n",
       " 104,\n",
       " 105,\n",
       " 106,\n",
       " 107,\n",
       " 108,\n",
       " 109,\n",
       " 110,\n",
       " 111,\n",
       " 112,\n",
       " 113,\n",
       " 114,\n",
       " 115,\n",
       " 116,\n",
       " 117,\n",
       " 118,\n",
       " 119,\n",
       " 120,\n",
       " 121,\n",
       " 122,\n",
       " 123,\n",
       " 124,\n",
       " 125,\n",
       " 127,\n",
       " 128,\n",
       " 129,\n",
       " 130,\n",
       " 131,\n",
       " 132,\n",
       " 133,\n",
       " 134,\n",
       " 135,\n",
       " 136,\n",
       " 137,\n",
       " 138,\n",
       " 139,\n",
       " 140,\n",
       " 141,\n",
       " 142,\n",
       " 144,\n",
       " 145,\n",
       " 146,\n",
       " 147,\n",
       " 148,\n",
       " 149,\n",
       " 150,\n",
       " 151,\n",
       " 152,\n",
       " 153,\n",
       " 154,\n",
       " 155,\n",
       " 156,\n",
       " 157,\n",
       " 158,\n",
       " 159]"
      ]
     },
     "execution_count": 7,
     "metadata": {},
     "output_type": "execute_result"
    }
   ],
   "source": [
    "categories = sorted(np.unique(ak.to_numpy(ak.flatten(ix))))"
   ]
  },
  {
   "cell_type": "markdown",
   "id": "f97e2601-e0a0-48d7-91b8-28e7491dafcf",
   "metadata": {},
   "source": [
    "Let's now construct a 2D histogram, effectively a collection of 1D histograms.\n",
    "We can establish the first axis as a `categorical` one; this will correspond to each possible detector channel."
   ]
  },
  {
   "cell_type": "code",
   "execution_count": 8,
   "id": "7ee421d3-efe5-4243-990a-c4de07fe9d34",
   "metadata": {},
   "outputs": [],
   "source": [
    "h = hist.Hist.new.IntCat(categories).Reg(512, 0, 4096).Int64();"
   ]
  },
  {
   "cell_type": "markdown",
   "id": "60fe230f-c769-4689-adf5-6b6147de1a18",
   "metadata": {},
   "source": [
    "This histogram can then be filled from our experimental data. `Hist.fill` only accepts flat arrays, so we need the flatten them first."
   ]
  },
  {
   "cell_type": "code",
   "execution_count": 9,
   "id": "31eef89b-bcc0-4b19-b852-9af473cc3c8b",
   "metadata": {},
   "outputs": [],
   "source": [
    "h.fill(ak.flatten(ix), ak.flatten(events.value));"
   ]
  },
  {
   "cell_type": "markdown",
   "id": "4c66ab48-2d11-4734-b28b-835abfd5b5b7",
   "metadata": {},
   "source": [
    "Let's plot the first index histogram:"
   ]
  },
  {
   "cell_type": "code",
   "execution_count": 10,
   "id": "783e1d96-0188-4698-93d9-a1a93796e521",
   "metadata": {},
   "outputs": [
    {
     "data": {
      "application/vnd.jupyter.widget-view+json": {
       "model_id": "acb4a35049434297a95bc7b6176c3a95",
       "version_major": 2,
       "version_minor": 0
      },
      "text/plain": [
       "Canvas(toolbar=Toolbar(toolitems=[('Home', 'Reset original view', 'home', 'home'), ('Back', 'Back to previous …"
      ]
     },
     "metadata": {},
     "output_type": "display_data"
    }
   ],
   "source": [
    "plt.figure()\n",
    "plt.title(f\"Histogram for channel {categories[0]}\")\n",
    "h[categories[0], ...].plot()\n",
    "plt.xlim(0, 2000);"
   ]
  },
  {
   "cell_type": "markdown",
   "id": "0347b74e-534b-4d43-8c0c-2b57efa9c89b",
   "metadata": {},
   "source": [
    "Clearly we have too narrow bins here. Let's rebin this histogram by a factor of 3"
   ]
  },
  {
   "cell_type": "code",
   "execution_count": 11,
   "id": "7559685a-f643-4a7a-96c9-d331d57b8c8b",
   "metadata": {},
   "outputs": [
    {
     "data": {
      "application/vnd.jupyter.widget-view+json": {
       "model_id": "3fdc00be050c41c5bbb6c6da6a918e5b",
       "version_major": 2,
       "version_minor": 0
      },
      "text/plain": [
       "Canvas(toolbar=Toolbar(toolitems=[('Home', 'Reset original view', 'home', 'home'), ('Back', 'Back to previous …"
      ]
     },
     "metadata": {},
     "output_type": "display_data"
    }
   ],
   "source": [
    "plt.figure()\n",
    "plt.title(f\"Histogram for channel {categories[0]} (rebinned)\")\n",
    "h[categories[0], ::3j].plot()\n",
    "plt.xlim(0, 2000);"
   ]
  }
 ],
 "metadata": {
  "kernelspec": {
   "display_name": "Python 3",
   "language": "python",
   "name": "python3"
  },
  "language_info": {
   "codemirror_mode": {
    "name": "ipython",
    "version": 3
   },
   "file_extension": ".py",
   "mimetype": "text/x-python",
   "name": "python",
   "nbconvert_exporter": "python",
   "pygments_lexer": "ipython3",
   "version": "3.9.0"
  },
  "widgets": {
   "application/vnd.jupyter.widget-state+json": {
    "state": {},
    "version_major": 2,
    "version_minor": 0
   }
  }
 },
 "nbformat": 4,
 "nbformat_minor": 5
}
