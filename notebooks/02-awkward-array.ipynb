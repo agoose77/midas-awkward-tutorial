{
 "cells": [
  {
   "cell_type": "markdown",
   "id": "e1a69136-3cc1-4449-9cfb-bc26e3450cc0",
   "metadata": {},
   "source": [
    "# Awkward Array"
   ]
  },
  {
   "cell_type": "code",
   "execution_count": 2,
   "id": "04d87521-d1bf-4a49-aed8-21e1faefe0e6",
   "metadata": {},
   "outputs": [],
   "source": [
    "import awkward as ak\n",
    "import numpy as np"
   ]
  },
  {
   "cell_type": "markdown",
   "id": "2cfd56d8-1e6e-4d5d-82e1-b9577c487132",
   "metadata": {},
   "source": [
    "Let's make the notebook more readable by printing every assignment or expression."
   ]
  },
  {
   "cell_type": "code",
   "execution_count": 18,
   "id": "e6aad24b-894b-42b0-a5ca-8ad6c3480694",
   "metadata": {},
   "outputs": [],
   "source": [
    "%config InteractiveShell.ast_node_interactivity = \"last_expr_or_assign\""
   ]
  }
 ],
 "metadata": {
  "kernelspec": {
   "display_name": "Python 3",
   "language": "python",
   "name": "python3"
  },
  "language_info": {
   "codemirror_mode": {
    "name": "ipython",
    "version": 3
   },
   "file_extension": ".py",
   "mimetype": "text/x-python",
   "name": "python",
   "nbconvert_exporter": "python",
   "pygments_lexer": "ipython3",
   "version": "3.9.0"
  },
  "widgets": {
   "application/vnd.jupyter.widget-state+json": {
    "state": {},
    "version_major": 2,
    "version_minor": 0
   }
  }
 },
 "nbformat": 4,
 "nbformat_minor": 5
}
