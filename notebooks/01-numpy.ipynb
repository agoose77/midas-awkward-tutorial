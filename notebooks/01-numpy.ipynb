{
 "cells": [
  {
   "cell_type": "markdown",
   "id": "29271076-370e-487b-bb56-abc6f641d600",
   "metadata": {},
   "source": [
    "# NumPy"
   ]
  },
  {
   "cell_type": "code",
   "execution_count": 1,
   "id": "19ba7b42-ac60-4376-b019-63ffdeefc009",
   "metadata": {},
   "outputs": [],
   "source": [
    "import numpy as np"
   ]
  },
  {
   "cell_type": "markdown",
   "id": "3986df5b-fb0e-4b44-a00d-c9da73f961db",
   "metadata": {},
   "source": [
    "Let's make the notebook more readable by printing every assignment or expression."
   ]
  },
  {
   "cell_type": "code",
   "execution_count": 18,
   "id": "4baa758f-6131-4db2-876a-b26494fcd9a8",
   "metadata": {},
   "outputs": [],
   "source": [
    "%config InteractiveShell.ast_node_interactivity = \"last_expr_or_assign\""
   ]
  },
  {
   "cell_type": "markdown",
   "id": "96112e5c-e74d-479b-ac21-527d722aaf01",
   "metadata": {},
   "source": [
    "## What is NumPy?"
   ]
  },
  {
   "cell_type": "code",
   "execution_count": null,
   "id": "630dba14-fc9f-4d00-ac46-33f5aef06fce",
   "metadata": {},
   "outputs": [],
   "source": []
  }
 ],
 "metadata": {
  "kernelspec": {
   "display_name": "Python 3",
   "language": "python",
   "name": "python3"
  },
  "language_info": {
   "codemirror_mode": {
    "name": "ipython",
    "version": 3
   },
   "file_extension": ".py",
   "mimetype": "text/x-python",
   "name": "python",
   "nbconvert_exporter": "python",
   "pygments_lexer": "ipython3",
   "version": "3.9.0"
  },
  "widgets": {
   "application/vnd.jupyter.widget-state+json": {
    "state": {},
    "version_major": 2,
    "version_minor": 0
   }
  }
 },
 "nbformat": 4,
 "nbformat_minor": 5
}
